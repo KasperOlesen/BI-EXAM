{
 "cells": [
  {
   "cell_type": "code",
   "execution_count": 7,
   "metadata": {},
   "outputs": [],
   "source": [
    "import numpy as np\n",
    "import pandas as pd\n",
    "import matplotlib.pyplot as plt\n",
    "%matplotlib inline\n",
    "import json\n",
    "import sklearn"
   ]
  },
  {
   "cell_type": "code",
   "execution_count": 3,
   "metadata": {},
   "outputs": [
    {
     "data": {
      "text/html": [
       "<div>\n",
       "<style>\n",
       "    .dataframe thead tr:only-child th {\n",
       "        text-align: right;\n",
       "    }\n",
       "\n",
       "    .dataframe thead th {\n",
       "        text-align: left;\n",
       "    }\n",
       "\n",
       "    .dataframe tbody tr th {\n",
       "        vertical-align: top;\n",
       "    }\n",
       "</style>\n",
       "<table border=\"1\" class=\"dataframe\">\n",
       "  <thead>\n",
       "    <tr style=\"text-align: right;\">\n",
       "      <th></th>\n",
       "      <th>What</th>\n",
       "      <th>Where</th>\n",
       "      <th>When</th>\n",
       "      <th>How_Much</th>\n",
       "    </tr>\n",
       "  </thead>\n",
       "  <tbody>\n",
       "    <tr>\n",
       "      <th>0</th>\n",
       "      <td>Koncert med Rytmisk Center.</td>\n",
       "      <td>Eliaskirken, Vesterbros Torv, Vesterbrogade 49...</td>\n",
       "      <td>Mon 20 November 2017, 6 pm  - 10 pm.</td>\n",
       "      <td>NaN</td>\n",
       "    </tr>\n",
       "    <tr>\n",
       "      <th>1</th>\n",
       "      <td>Five Finger Death Punch &amp; In Flames.</td>\n",
       "      <td>Royal Arena, Hannemanns Allé 18-20, Copenhagen S</td>\n",
       "      <td>Mon 20 November 2017, 7 pm.</td>\n",
       "      <td>(Entrance fee: 408,00 dkk - 508,00 dkk)</td>\n",
       "    </tr>\n",
       "    <tr>\n",
       "      <th>2</th>\n",
       "      <td>Koncert med Lyngby Seniorkor.</td>\n",
       "      <td>Sorgenfri Kirke og Sognegård, Hummeltoften 1, ...</td>\n",
       "      <td>Mon 20 November 2017, 7 pm  - 11 pm.</td>\n",
       "      <td>NaN</td>\n",
       "    </tr>\n",
       "    <tr>\n",
       "      <th>3</th>\n",
       "      <td>Mestre på Mandage IX.</td>\n",
       "      <td>Sankt Markus Kirke, Forchhammersvej 12A, Frede...</td>\n",
       "      <td>Mon 20 November 2017, 7.30 pm.</td>\n",
       "      <td>(Free admission)</td>\n",
       "    </tr>\n",
       "    <tr>\n",
       "      <th>4</th>\n",
       "      <td>Moderne mandag - Beates klaverbog.</td>\n",
       "      <td>Metronomen, Godthåbsvej 33, Frederiksberg</td>\n",
       "      <td>Mon 20 November 2017, 7.30 pm.</td>\n",
       "      <td>(Entrance fee: 100 / 50 DKK)</td>\n",
       "    </tr>\n",
       "  </tbody>\n",
       "</table>\n",
       "</div>"
      ],
      "text/plain": [
       "                                   What  \\\n",
       "0           Koncert med Rytmisk Center.   \n",
       "1  Five Finger Death Punch & In Flames.   \n",
       "2         Koncert med Lyngby Seniorkor.   \n",
       "3                 Mestre på Mandage IX.   \n",
       "4    Moderne mandag - Beates klaverbog.   \n",
       "\n",
       "                                               Where  \\\n",
       "0  Eliaskirken, Vesterbros Torv, Vesterbrogade 49...   \n",
       "1   Royal Arena, Hannemanns Allé 18-20, Copenhagen S   \n",
       "2  Sorgenfri Kirke og Sognegård, Hummeltoften 1, ...   \n",
       "3  Sankt Markus Kirke, Forchhammersvej 12A, Frede...   \n",
       "4          Metronomen, Godthåbsvej 33, Frederiksberg   \n",
       "\n",
       "                                   When  \\\n",
       "0  Mon 20 November 2017, 6 pm  - 10 pm.   \n",
       "1           Mon 20 November 2017, 7 pm.   \n",
       "2  Mon 20 November 2017, 7 pm  - 11 pm.   \n",
       "3        Mon 20 November 2017, 7.30 pm.   \n",
       "4        Mon 20 November 2017, 7.30 pm.   \n",
       "\n",
       "                                  How_Much  \n",
       "0                                      NaN  \n",
       "1  (Entrance fee: 408,00 dkk - 508,00 dkk)  \n",
       "2                                      NaN  \n",
       "3                         (Free admission)  \n",
       "4             (Entrance fee: 100 / 50 DKK)  "
      ]
     },
     "execution_count": 3,
     "metadata": {},
     "output_type": "execute_result"
    }
   ],
   "source": [
    "df = pd.read_csv('scraped_events.csv')\n",
    "df.head()"
   ]
  },
  {
   "cell_type": "code",
   "execution_count": 5,
   "metadata": {
    "collapsed": true
   },
   "outputs": [],
   "source": [
    "def get_start_time(date_str):\n",
    "    \n",
    "    date_str = date_str.strip().strip('.')\n",
    "    if '&' in date_str:\n",
    "        date_str = date_str.split('&')[0]\n",
    "    if '-' in date_str:\n",
    "        date_str = date_str.split('-')[0].strip()\n",
    "    if '.' in date_str:\n",
    "        date_str = date_str.replace('.', ':')\n",
    "    if date_str.startswith('Tues'):\n",
    "        date_str = date_str.replace('Tues', 'Tue')\n",
    "    if date_str.startswith('Thur'):\n",
    "        date_str = date_str.replace('Thur', 'Thu')\n",
    "\n",
    "    date = parse(date_str)\n",
    "    return date\n",
    "\n",
    "def start_time_to_float(b):\n",
    "    try:\n",
    "        return float(\"{}{:02d}\".format(b.hour, b.minute))\n",
    "    except:\n",
    "        return math.nan"
   ]
  },
  {
   "cell_type": "code",
   "execution_count": 6,
   "metadata": {},
   "outputs": [
    {
     "ename": "NameError",
     "evalue": "name 'math' is not defined",
     "output_type": "error",
     "traceback": [
      "\u001b[0;31m---------------------------------------------------------------------------\u001b[0m",
      "\u001b[0;31mAttributeError\u001b[0m                            Traceback (most recent call last)",
      "\u001b[0;32m<ipython-input-5-93885572d88d>\u001b[0m in \u001b[0;36mstart_time_to_float\u001b[0;34m(b)\u001b[0m\n\u001b[1;32m     19\u001b[0m     \u001b[0;32mtry\u001b[0m\u001b[0;34m:\u001b[0m\u001b[0;34m\u001b[0m\u001b[0m\n\u001b[0;32m---> 20\u001b[0;31m         \u001b[0;32mreturn\u001b[0m \u001b[0mfloat\u001b[0m\u001b[0;34m(\u001b[0m\u001b[0;34m\"{}{:02d}\"\u001b[0m\u001b[0;34m.\u001b[0m\u001b[0mformat\u001b[0m\u001b[0;34m(\u001b[0m\u001b[0mb\u001b[0m\u001b[0;34m.\u001b[0m\u001b[0mhour\u001b[0m\u001b[0;34m,\u001b[0m \u001b[0mb\u001b[0m\u001b[0;34m.\u001b[0m\u001b[0mminute\u001b[0m\u001b[0;34m)\u001b[0m\u001b[0;34m)\u001b[0m\u001b[0;34m\u001b[0m\u001b[0m\n\u001b[0m\u001b[1;32m     21\u001b[0m     \u001b[0;32mexcept\u001b[0m\u001b[0;34m:\u001b[0m\u001b[0;34m\u001b[0m\u001b[0m\n",
      "\u001b[0;32m/home/vagrant/anaconda3/lib/python3.6/site-packages/pandas/core/generic.py\u001b[0m in \u001b[0;36m__getattr__\u001b[0;34m(self, name)\u001b[0m\n\u001b[1;32m   2969\u001b[0m                 \u001b[0;32mreturn\u001b[0m \u001b[0mself\u001b[0m\u001b[0;34m[\u001b[0m\u001b[0mname\u001b[0m\u001b[0;34m]\u001b[0m\u001b[0;34m\u001b[0m\u001b[0m\n\u001b[0;32m-> 2970\u001b[0;31m             \u001b[0;32mreturn\u001b[0m \u001b[0mobject\u001b[0m\u001b[0;34m.\u001b[0m\u001b[0m__getattribute__\u001b[0m\u001b[0;34m(\u001b[0m\u001b[0mself\u001b[0m\u001b[0;34m,\u001b[0m \u001b[0mname\u001b[0m\u001b[0;34m)\u001b[0m\u001b[0;34m\u001b[0m\u001b[0m\n\u001b[0m\u001b[1;32m   2971\u001b[0m \u001b[0;34m\u001b[0m\u001b[0m\n",
      "\u001b[0;31mAttributeError\u001b[0m: 'Series' object has no attribute 'hour'",
      "\nDuring handling of the above exception, another exception occurred:\n",
      "\u001b[0;31mNameError\u001b[0m                                 Traceback (most recent call last)",
      "\u001b[0;32m<ipython-input-6-66a5973da469>\u001b[0m in \u001b[0;36m<module>\u001b[0;34m()\u001b[0m\n\u001b[1;32m      1\u001b[0m \u001b[0;34m\u001b[0m\u001b[0m\n\u001b[0;32m----> 2\u001b[0;31m \u001b[0mdf\u001b[0m\u001b[0;34m[\u001b[0m\u001b[0;34m'When'\u001b[0m\u001b[0;34m]\u001b[0m \u001b[0;34m=\u001b[0m \u001b[0mstart_time_to_float\u001b[0m\u001b[0;34m(\u001b[0m\u001b[0mdf\u001b[0m\u001b[0;34m[\u001b[0m\u001b[0;34m'When'\u001b[0m\u001b[0;34m]\u001b[0m\u001b[0;34m)\u001b[0m\u001b[0;34m\u001b[0m\u001b[0m\n\u001b[0m\u001b[1;32m      3\u001b[0m \u001b[0;34m\u001b[0m\u001b[0m\n",
      "\u001b[0;32m<ipython-input-5-93885572d88d>\u001b[0m in \u001b[0;36mstart_time_to_float\u001b[0;34m(b)\u001b[0m\n\u001b[1;32m     20\u001b[0m         \u001b[0;32mreturn\u001b[0m \u001b[0mfloat\u001b[0m\u001b[0;34m(\u001b[0m\u001b[0;34m\"{}{:02d}\"\u001b[0m\u001b[0;34m.\u001b[0m\u001b[0mformat\u001b[0m\u001b[0;34m(\u001b[0m\u001b[0mb\u001b[0m\u001b[0;34m.\u001b[0m\u001b[0mhour\u001b[0m\u001b[0;34m,\u001b[0m \u001b[0mb\u001b[0m\u001b[0;34m.\u001b[0m\u001b[0mminute\u001b[0m\u001b[0;34m)\u001b[0m\u001b[0;34m)\u001b[0m\u001b[0;34m\u001b[0m\u001b[0m\n\u001b[1;32m     21\u001b[0m     \u001b[0;32mexcept\u001b[0m\u001b[0;34m:\u001b[0m\u001b[0;34m\u001b[0m\u001b[0m\n\u001b[0;32m---> 22\u001b[0;31m         \u001b[0;32mreturn\u001b[0m \u001b[0mmath\u001b[0m\u001b[0;34m.\u001b[0m\u001b[0mnan\u001b[0m\u001b[0;34m\u001b[0m\u001b[0m\n\u001b[0m",
      "\u001b[0;31mNameError\u001b[0m: name 'math' is not defined"
     ]
    }
   ],
   "source": [
    "\n",
    "df['When'] = start_time_to_float(df['When'])\n",
    "    \n",
    "    \n",
    "\n",
    "df['When'] = start_time_to_float(df['When'])\n",
    "    \n",
    "X = df[['When', 'dist_to_center']]\n",
    "Y = df[['price']]\n",
    "\n",
    "\n",
    "X_train, X_test, y_train, y_test = sklearn.model_selection.train_test_split(X, Y, test_size=0.20)\n",
    "\n",
    "X_train = X_train.values.reshape(-1,2)\n",
    "X_test = X_test.values.reshape(-1,2)\n",
    "y_train = y_train.values.reshape(-1,1)\n",
    "    \n",
    "    \n",
    "    \n",
    "model = sklearn.linear_model.LinearRegression()\n",
    "model.fit(X_train, y_train)\n",
    "\n",
    "y_pred = model.predict(X_test)\n",
    "\n",
    "\n",
    "plt.scatter(X_train,y_train)\n",
    "plt.plot(X_train, model.predict(X_train), color='red')\n",
    "a = model.coef_[0]\n",
    "b = model.intercept_[0]\n",
    "score = model.score\n",
    "\n",
    "print(a)\n",
    "print(b)\n",
    "print(score)"
   ]
  },
  {
   "cell_type": "code",
   "execution_count": null,
   "metadata": {
    "collapsed": true
   },
   "outputs": [],
   "source": []
  }
 ],
 "metadata": {
  "kernelspec": {
   "display_name": "Python 3",
   "language": "python",
   "name": "python3"
  },
  "language_info": {
   "codemirror_mode": {
    "name": "ipython",
    "version": 3
   },
   "file_extension": ".py",
   "mimetype": "text/x-python",
   "name": "python",
   "nbconvert_exporter": "python",
   "pygments_lexer": "ipython3",
   "version": "3.6.1"
  }
 },
 "nbformat": 4,
 "nbformat_minor": 2
}
