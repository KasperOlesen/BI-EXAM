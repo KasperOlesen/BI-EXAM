{
 "cells": [
  {
   "cell_type": "code",
   "execution_count": 1,
   "metadata": {
    "collapsed": true
   },
   "outputs": [],
   "source": [
    "from osmread import parse_file, Node\n",
    "from collections import defaultdict\n",
    "import pandas as pd\n",
    "import numpy as np\n",
    "from geopy.geocoders import Nominatim\n"
   ]
  },
  {
   "cell_type": "code",
   "execution_count": 37,
   "metadata": {
    "scrolled": false
   },
   "outputs": [
    {
     "data": {
      "text/html": [
       "<div>\n",
       "<style>\n",
       "    .dataframe thead tr:only-child th {\n",
       "        text-align: right;\n",
       "    }\n",
       "\n",
       "    .dataframe thead th {\n",
       "        text-align: left;\n",
       "    }\n",
       "\n",
       "    .dataframe tbody tr th {\n",
       "        vertical-align: top;\n",
       "    }\n",
       "</style>\n",
       "<table border=\"1\" class=\"dataframe\">\n",
       "  <thead>\n",
       "    <tr style=\"text-align: right;\">\n",
       "      <th></th>\n",
       "      <th>What</th>\n",
       "      <th>Where</th>\n",
       "      <th>When</th>\n",
       "      <th>How_Much</th>\n",
       "    </tr>\n",
       "  </thead>\n",
       "  <tbody>\n",
       "    <tr>\n",
       "      <th>0</th>\n",
       "      <td>Koncert med Rytmisk Center.</td>\n",
       "      <td>Eliaskirken, Vesterbros Torv, Vesterbrogade 49...</td>\n",
       "      <td>Mon 20 November 2017, 6 pm  - 10 pm.</td>\n",
       "      <td>NaN</td>\n",
       "    </tr>\n",
       "    <tr>\n",
       "      <th>1</th>\n",
       "      <td>Five Finger Death Punch &amp; In Flames.</td>\n",
       "      <td>Royal Arena, Hannemanns Allé 18-20, Copenhagen S</td>\n",
       "      <td>Mon 20 November 2017, 7 pm.</td>\n",
       "      <td>(Entrance fee: 408,00 dkk - 508,00 dkk)</td>\n",
       "    </tr>\n",
       "    <tr>\n",
       "      <th>2</th>\n",
       "      <td>Koncert med Lyngby Seniorkor.</td>\n",
       "      <td>Sorgenfri Kirke og Sognegård, Hummeltoften 1, ...</td>\n",
       "      <td>Mon 20 November 2017, 7 pm  - 11 pm.</td>\n",
       "      <td>NaN</td>\n",
       "    </tr>\n",
       "    <tr>\n",
       "      <th>3</th>\n",
       "      <td>Mestre på Mandage IX.</td>\n",
       "      <td>Sankt Markus Kirke, Forchhammersvej 12A, Frede...</td>\n",
       "      <td>Mon 20 November 2017, 7.30 pm.</td>\n",
       "      <td>(Free admission)</td>\n",
       "    </tr>\n",
       "    <tr>\n",
       "      <th>4</th>\n",
       "      <td>Moderne mandag - Beates klaverbog.</td>\n",
       "      <td>Metronomen, Godthåbsvej 33, Frederiksberg</td>\n",
       "      <td>Mon 20 November 2017, 7.30 pm.</td>\n",
       "      <td>(Entrance fee: 100 / 50 DKK)</td>\n",
       "    </tr>\n",
       "  </tbody>\n",
       "</table>\n",
       "</div>"
      ],
      "text/plain": [
       "                                   What  \\\n",
       "0           Koncert med Rytmisk Center.   \n",
       "1  Five Finger Death Punch & In Flames.   \n",
       "2         Koncert med Lyngby Seniorkor.   \n",
       "3                 Mestre på Mandage IX.   \n",
       "4    Moderne mandag - Beates klaverbog.   \n",
       "\n",
       "                                               Where  \\\n",
       "0  Eliaskirken, Vesterbros Torv, Vesterbrogade 49...   \n",
       "1   Royal Arena, Hannemanns Allé 18-20, Copenhagen S   \n",
       "2  Sorgenfri Kirke og Sognegård, Hummeltoften 1, ...   \n",
       "3  Sankt Markus Kirke, Forchhammersvej 12A, Frede...   \n",
       "4          Metronomen, Godthåbsvej 33, Frederiksberg   \n",
       "\n",
       "                                   When  \\\n",
       "0  Mon 20 November 2017, 6 pm  - 10 pm.   \n",
       "1           Mon 20 November 2017, 7 pm.   \n",
       "2  Mon 20 November 2017, 7 pm  - 11 pm.   \n",
       "3        Mon 20 November 2017, 7.30 pm.   \n",
       "4        Mon 20 November 2017, 7.30 pm.   \n",
       "\n",
       "                                  How_Much  \n",
       "0                                      NaN  \n",
       "1  (Entrance fee: 408,00 dkk - 508,00 dkk)  \n",
       "2                                      NaN  \n",
       "3                         (Free admission)  \n",
       "4             (Entrance fee: 100 / 50 DKK)  "
      ]
     },
     "execution_count": 37,
     "metadata": {},
     "output_type": "execute_result"
    }
   ],
   "source": [
    "df = pd.read_csv('scraped_events.csv')\n",
    "df.head()"
   ]
  },
  {
   "cell_type": "code",
   "execution_count": 39,
   "metadata": {},
   "outputs": [
    {
     "data": {
      "text/html": [
       "<div>\n",
       "<style>\n",
       "    .dataframe thead tr:only-child th {\n",
       "        text-align: right;\n",
       "    }\n",
       "\n",
       "    .dataframe thead th {\n",
       "        text-align: left;\n",
       "    }\n",
       "\n",
       "    .dataframe tbody tr th {\n",
       "        vertical-align: top;\n",
       "    }\n",
       "</style>\n",
       "<table border=\"1\" class=\"dataframe\">\n",
       "  <thead>\n",
       "    <tr style=\"text-align: right;\">\n",
       "      <th></th>\n",
       "      <th>What</th>\n",
       "      <th>Where</th>\n",
       "      <th>When</th>\n",
       "      <th>How_Much</th>\n",
       "      <th>Address</th>\n",
       "    </tr>\n",
       "  </thead>\n",
       "  <tbody>\n",
       "    <tr>\n",
       "      <th>0</th>\n",
       "      <td>Koncert med Rytmisk Center.</td>\n",
       "      <td>Eliaskirken, Vesterbros Torv, Vesterbrogade 49...</td>\n",
       "      <td>Mon 20 November 2017, 6 pm  - 10 pm.</td>\n",
       "      <td>NaN</td>\n",
       "      <td>Vesterbros Torv</td>\n",
       "    </tr>\n",
       "    <tr>\n",
       "      <th>1</th>\n",
       "      <td>Five Finger Death Punch &amp; In Flames.</td>\n",
       "      <td>Royal Arena, Hannemanns Allé 18-20, Copenhagen S</td>\n",
       "      <td>Mon 20 November 2017, 7 pm.</td>\n",
       "      <td>(Entrance fee: 408,00 dkk - 508,00 dkk)</td>\n",
       "      <td>Hannemanns Allé 18-20</td>\n",
       "    </tr>\n",
       "    <tr>\n",
       "      <th>2</th>\n",
       "      <td>Koncert med Lyngby Seniorkor.</td>\n",
       "      <td>Sorgenfri Kirke og Sognegård, Hummeltoften 1, ...</td>\n",
       "      <td>Mon 20 November 2017, 7 pm  - 11 pm.</td>\n",
       "      <td>NaN</td>\n",
       "      <td>Hummeltoften 1</td>\n",
       "    </tr>\n",
       "    <tr>\n",
       "      <th>3</th>\n",
       "      <td>Mestre på Mandage IX.</td>\n",
       "      <td>Sankt Markus Kirke, Forchhammersvej 12A, Frede...</td>\n",
       "      <td>Mon 20 November 2017, 7.30 pm.</td>\n",
       "      <td>(Free admission)</td>\n",
       "      <td>Forchhammersvej 12A</td>\n",
       "    </tr>\n",
       "    <tr>\n",
       "      <th>4</th>\n",
       "      <td>Moderne mandag - Beates klaverbog.</td>\n",
       "      <td>Metronomen, Godthåbsvej 33, Frederiksberg</td>\n",
       "      <td>Mon 20 November 2017, 7.30 pm.</td>\n",
       "      <td>(Entrance fee: 100 / 50 DKK)</td>\n",
       "      <td>Godthåbsvej 33</td>\n",
       "    </tr>\n",
       "  </tbody>\n",
       "</table>\n",
       "</div>"
      ],
      "text/plain": [
       "                                   What  \\\n",
       "0           Koncert med Rytmisk Center.   \n",
       "1  Five Finger Death Punch & In Flames.   \n",
       "2         Koncert med Lyngby Seniorkor.   \n",
       "3                 Mestre på Mandage IX.   \n",
       "4    Moderne mandag - Beates klaverbog.   \n",
       "\n",
       "                                               Where  \\\n",
       "0  Eliaskirken, Vesterbros Torv, Vesterbrogade 49...   \n",
       "1   Royal Arena, Hannemanns Allé 18-20, Copenhagen S   \n",
       "2  Sorgenfri Kirke og Sognegård, Hummeltoften 1, ...   \n",
       "3  Sankt Markus Kirke, Forchhammersvej 12A, Frede...   \n",
       "4          Metronomen, Godthåbsvej 33, Frederiksberg   \n",
       "\n",
       "                                   When  \\\n",
       "0  Mon 20 November 2017, 6 pm  - 10 pm.   \n",
       "1           Mon 20 November 2017, 7 pm.   \n",
       "2  Mon 20 November 2017, 7 pm  - 11 pm.   \n",
       "3        Mon 20 November 2017, 7.30 pm.   \n",
       "4        Mon 20 November 2017, 7.30 pm.   \n",
       "\n",
       "                                  How_Much                 Address  \n",
       "0                                      NaN         Vesterbros Torv  \n",
       "1  (Entrance fee: 408,00 dkk - 508,00 dkk)   Hannemanns Allé 18-20  \n",
       "2                                      NaN          Hummeltoften 1  \n",
       "3                         (Free admission)     Forchhammersvej 12A  \n",
       "4             (Entrance fee: 100 / 50 DKK)          Godthåbsvej 33  "
      ]
     },
     "execution_count": 39,
     "metadata": {},
     "output_type": "execute_result"
    }
   ],
   "source": [
    "df['Address'] = df['Where'].str.split(',').str[1]"
   ]
  },
  {
   "cell_type": "code",
   "execution_count": 44,
   "metadata": {
    "scrolled": true
   },
   "outputs": [
    {
     "ename": "GeocoderServiceError",
     "evalue": "HTTP Error 500: Internal Server Error",
     "output_type": "error",
     "traceback": [
      "\u001b[0;31m---------------------------------------------------------------------------\u001b[0m",
      "\u001b[0;31mHTTPError\u001b[0m                                 Traceback (most recent call last)",
      "\u001b[0;32m/home/vagrant/anaconda3/lib/python3.6/site-packages/geopy/geocoders/base.py\u001b[0m in \u001b[0;36m_call_geocoder\u001b[0;34m(self, url, timeout, raw, requester, deserializer, **kwargs)\u001b[0m\n\u001b[1;32m    142\u001b[0m         \u001b[0;32mtry\u001b[0m\u001b[0;34m:\u001b[0m\u001b[0;34m\u001b[0m\u001b[0m\n\u001b[0;32m--> 143\u001b[0;31m             \u001b[0mpage\u001b[0m \u001b[0;34m=\u001b[0m \u001b[0mrequester\u001b[0m\u001b[0;34m(\u001b[0m\u001b[0mreq\u001b[0m\u001b[0;34m,\u001b[0m \u001b[0mtimeout\u001b[0m\u001b[0;34m=\u001b[0m\u001b[0;34m(\u001b[0m\u001b[0mtimeout\u001b[0m \u001b[0;32mor\u001b[0m \u001b[0mself\u001b[0m\u001b[0;34m.\u001b[0m\u001b[0mtimeout\u001b[0m\u001b[0;34m)\u001b[0m\u001b[0;34m,\u001b[0m \u001b[0;34m**\u001b[0m\u001b[0mkwargs\u001b[0m\u001b[0;34m)\u001b[0m\u001b[0;34m\u001b[0m\u001b[0m\n\u001b[0m\u001b[1;32m    144\u001b[0m         \u001b[0;32mexcept\u001b[0m \u001b[0mException\u001b[0m \u001b[0;32mas\u001b[0m \u001b[0merror\u001b[0m\u001b[0;34m:\u001b[0m \u001b[0;31m# pylint: disable=W0703\u001b[0m\u001b[0;34m\u001b[0m\u001b[0m\n",
      "\u001b[0;32m/home/vagrant/anaconda3/lib/python3.6/urllib/request.py\u001b[0m in \u001b[0;36murlopen\u001b[0;34m(url, data, timeout, cafile, capath, cadefault, context)\u001b[0m\n\u001b[1;32m    222\u001b[0m         \u001b[0mopener\u001b[0m \u001b[0;34m=\u001b[0m \u001b[0m_opener\u001b[0m\u001b[0;34m\u001b[0m\u001b[0m\n\u001b[0;32m--> 223\u001b[0;31m     \u001b[0;32mreturn\u001b[0m \u001b[0mopener\u001b[0m\u001b[0;34m.\u001b[0m\u001b[0mopen\u001b[0m\u001b[0;34m(\u001b[0m\u001b[0murl\u001b[0m\u001b[0;34m,\u001b[0m \u001b[0mdata\u001b[0m\u001b[0;34m,\u001b[0m \u001b[0mtimeout\u001b[0m\u001b[0;34m)\u001b[0m\u001b[0;34m\u001b[0m\u001b[0m\n\u001b[0m\u001b[1;32m    224\u001b[0m \u001b[0;34m\u001b[0m\u001b[0m\n",
      "\u001b[0;32m/home/vagrant/anaconda3/lib/python3.6/urllib/request.py\u001b[0m in \u001b[0;36mopen\u001b[0;34m(self, fullurl, data, timeout)\u001b[0m\n\u001b[1;32m    531\u001b[0m             \u001b[0mmeth\u001b[0m \u001b[0;34m=\u001b[0m \u001b[0mgetattr\u001b[0m\u001b[0;34m(\u001b[0m\u001b[0mprocessor\u001b[0m\u001b[0;34m,\u001b[0m \u001b[0mmeth_name\u001b[0m\u001b[0;34m)\u001b[0m\u001b[0;34m\u001b[0m\u001b[0m\n\u001b[0;32m--> 532\u001b[0;31m             \u001b[0mresponse\u001b[0m \u001b[0;34m=\u001b[0m \u001b[0mmeth\u001b[0m\u001b[0;34m(\u001b[0m\u001b[0mreq\u001b[0m\u001b[0;34m,\u001b[0m \u001b[0mresponse\u001b[0m\u001b[0;34m)\u001b[0m\u001b[0;34m\u001b[0m\u001b[0m\n\u001b[0m\u001b[1;32m    533\u001b[0m \u001b[0;34m\u001b[0m\u001b[0m\n",
      "\u001b[0;32m/home/vagrant/anaconda3/lib/python3.6/urllib/request.py\u001b[0m in \u001b[0;36mhttp_response\u001b[0;34m(self, request, response)\u001b[0m\n\u001b[1;32m    641\u001b[0m             response = self.parent.error(\n\u001b[0;32m--> 642\u001b[0;31m                 'http', request, response, code, msg, hdrs)\n\u001b[0m\u001b[1;32m    643\u001b[0m \u001b[0;34m\u001b[0m\u001b[0m\n",
      "\u001b[0;32m/home/vagrant/anaconda3/lib/python3.6/urllib/request.py\u001b[0m in \u001b[0;36merror\u001b[0;34m(self, proto, *args)\u001b[0m\n\u001b[1;32m    569\u001b[0m             \u001b[0margs\u001b[0m \u001b[0;34m=\u001b[0m \u001b[0;34m(\u001b[0m\u001b[0mdict\u001b[0m\u001b[0;34m,\u001b[0m \u001b[0;34m'default'\u001b[0m\u001b[0;34m,\u001b[0m \u001b[0;34m'http_error_default'\u001b[0m\u001b[0;34m)\u001b[0m \u001b[0;34m+\u001b[0m \u001b[0morig_args\u001b[0m\u001b[0;34m\u001b[0m\u001b[0m\n\u001b[0;32m--> 570\u001b[0;31m             \u001b[0;32mreturn\u001b[0m \u001b[0mself\u001b[0m\u001b[0;34m.\u001b[0m\u001b[0m_call_chain\u001b[0m\u001b[0;34m(\u001b[0m\u001b[0;34m*\u001b[0m\u001b[0margs\u001b[0m\u001b[0;34m)\u001b[0m\u001b[0;34m\u001b[0m\u001b[0m\n\u001b[0m\u001b[1;32m    571\u001b[0m \u001b[0;34m\u001b[0m\u001b[0m\n",
      "\u001b[0;32m/home/vagrant/anaconda3/lib/python3.6/urllib/request.py\u001b[0m in \u001b[0;36m_call_chain\u001b[0;34m(self, chain, kind, meth_name, *args)\u001b[0m\n\u001b[1;32m    503\u001b[0m             \u001b[0mfunc\u001b[0m \u001b[0;34m=\u001b[0m \u001b[0mgetattr\u001b[0m\u001b[0;34m(\u001b[0m\u001b[0mhandler\u001b[0m\u001b[0;34m,\u001b[0m \u001b[0mmeth_name\u001b[0m\u001b[0;34m)\u001b[0m\u001b[0;34m\u001b[0m\u001b[0m\n\u001b[0;32m--> 504\u001b[0;31m             \u001b[0mresult\u001b[0m \u001b[0;34m=\u001b[0m \u001b[0mfunc\u001b[0m\u001b[0;34m(\u001b[0m\u001b[0;34m*\u001b[0m\u001b[0margs\u001b[0m\u001b[0;34m)\u001b[0m\u001b[0;34m\u001b[0m\u001b[0m\n\u001b[0m\u001b[1;32m    505\u001b[0m             \u001b[0;32mif\u001b[0m \u001b[0mresult\u001b[0m \u001b[0;32mis\u001b[0m \u001b[0;32mnot\u001b[0m \u001b[0;32mNone\u001b[0m\u001b[0;34m:\u001b[0m\u001b[0;34m\u001b[0m\u001b[0m\n",
      "\u001b[0;32m/home/vagrant/anaconda3/lib/python3.6/urllib/request.py\u001b[0m in \u001b[0;36mhttp_error_default\u001b[0;34m(self, req, fp, code, msg, hdrs)\u001b[0m\n\u001b[1;32m    649\u001b[0m     \u001b[0;32mdef\u001b[0m \u001b[0mhttp_error_default\u001b[0m\u001b[0;34m(\u001b[0m\u001b[0mself\u001b[0m\u001b[0;34m,\u001b[0m \u001b[0mreq\u001b[0m\u001b[0;34m,\u001b[0m \u001b[0mfp\u001b[0m\u001b[0;34m,\u001b[0m \u001b[0mcode\u001b[0m\u001b[0;34m,\u001b[0m \u001b[0mmsg\u001b[0m\u001b[0;34m,\u001b[0m \u001b[0mhdrs\u001b[0m\u001b[0;34m)\u001b[0m\u001b[0;34m:\u001b[0m\u001b[0;34m\u001b[0m\u001b[0m\n\u001b[0;32m--> 650\u001b[0;31m         \u001b[0;32mraise\u001b[0m \u001b[0mHTTPError\u001b[0m\u001b[0;34m(\u001b[0m\u001b[0mreq\u001b[0m\u001b[0;34m.\u001b[0m\u001b[0mfull_url\u001b[0m\u001b[0;34m,\u001b[0m \u001b[0mcode\u001b[0m\u001b[0;34m,\u001b[0m \u001b[0mmsg\u001b[0m\u001b[0;34m,\u001b[0m \u001b[0mhdrs\u001b[0m\u001b[0;34m,\u001b[0m \u001b[0mfp\u001b[0m\u001b[0;34m)\u001b[0m\u001b[0;34m\u001b[0m\u001b[0m\n\u001b[0m\u001b[1;32m    651\u001b[0m \u001b[0;34m\u001b[0m\u001b[0m\n",
      "\u001b[0;31mHTTPError\u001b[0m: HTTP Error 500: Internal Server Error",
      "\nDuring handling of the above exception, another exception occurred:\n",
      "\u001b[0;31mKeyError\u001b[0m                                  Traceback (most recent call last)",
      "\u001b[0;32m/home/vagrant/anaconda3/lib/python3.6/site-packages/geopy/geocoders/base.py\u001b[0m in \u001b[0;36m_call_geocoder\u001b[0;34m(self, url, timeout, raw, requester, deserializer, **kwargs)\u001b[0m\n\u001b[1;32m    157\u001b[0m                 \u001b[0;32mtry\u001b[0m\u001b[0;34m:\u001b[0m\u001b[0;34m\u001b[0m\u001b[0m\n\u001b[0;32m--> 158\u001b[0;31m                     \u001b[0;32mraise\u001b[0m \u001b[0mERROR_CODE_MAP\u001b[0m\u001b[0;34m[\u001b[0m\u001b[0mcode\u001b[0m\u001b[0;34m]\u001b[0m\u001b[0;34m(\u001b[0m\u001b[0mmessage\u001b[0m\u001b[0;34m)\u001b[0m\u001b[0;34m\u001b[0m\u001b[0m\n\u001b[0m\u001b[1;32m    159\u001b[0m                 \u001b[0;32mexcept\u001b[0m \u001b[0mKeyError\u001b[0m\u001b[0;34m:\u001b[0m\u001b[0;34m\u001b[0m\u001b[0m\n",
      "\u001b[0;31mKeyError\u001b[0m: 500",
      "\nDuring handling of the above exception, another exception occurred:\n",
      "\u001b[0;31mGeocoderServiceError\u001b[0m                      Traceback (most recent call last)",
      "\u001b[0;32m<ipython-input-44-24ba10859cbf>\u001b[0m in \u001b[0;36m<module>\u001b[0;34m()\u001b[0m\n\u001b[0;32m----> 1\u001b[0;31m \u001b[0mdf\u001b[0m\u001b[0;34m[\u001b[0m\u001b[0;34m'long'\u001b[0m\u001b[0;34m]\u001b[0m \u001b[0;34m=\u001b[0m \u001b[0mgeolocator\u001b[0m\u001b[0;34m.\u001b[0m\u001b[0mgeocode\u001b[0m\u001b[0;34m(\u001b[0m\u001b[0mdf\u001b[0m\u001b[0;34m[\u001b[0m\u001b[0;34m'Address'\u001b[0m\u001b[0;34m]\u001b[0m\u001b[0;34m,\u001b[0m \u001b[0mtimeout\u001b[0m\u001b[0;34m=\u001b[0m\u001b[0;36m10\u001b[0m\u001b[0;34m)\u001b[0m\u001b[0;34m.\u001b[0m\u001b[0mlongitude\u001b[0m\u001b[0;34m\u001b[0m\u001b[0m\n\u001b[0m\u001b[1;32m      2\u001b[0m \u001b[0;34m\u001b[0m\u001b[0m\n\u001b[1;32m      3\u001b[0m \u001b[0;34m\u001b[0m\u001b[0m\n\u001b[1;32m      4\u001b[0m \u001b[0mdf\u001b[0m\u001b[0;34m.\u001b[0m\u001b[0mhead\u001b[0m\u001b[0;34m(\u001b[0m\u001b[0;34m)\u001b[0m\u001b[0;34m\u001b[0m\u001b[0m\n",
      "\u001b[0;32m/home/vagrant/anaconda3/lib/python3.6/site-packages/geopy/geocoders/osm.py\u001b[0m in \u001b[0;36mgeocode\u001b[0;34m(self, query, exactly_one, timeout, addressdetails, language, geometry)\u001b[0m\n\u001b[1;32m    191\u001b[0m         \u001b[0mlogger\u001b[0m\u001b[0;34m.\u001b[0m\u001b[0mdebug\u001b[0m\u001b[0;34m(\u001b[0m\u001b[0;34m\"%s.geocode: %s\"\u001b[0m\u001b[0;34m,\u001b[0m \u001b[0mself\u001b[0m\u001b[0;34m.\u001b[0m\u001b[0m__class__\u001b[0m\u001b[0;34m.\u001b[0m\u001b[0m__name__\u001b[0m\u001b[0;34m,\u001b[0m \u001b[0murl\u001b[0m\u001b[0;34m)\u001b[0m\u001b[0;34m\u001b[0m\u001b[0m\n\u001b[1;32m    192\u001b[0m         return self._parse_json(\n\u001b[0;32m--> 193\u001b[0;31m             \u001b[0mself\u001b[0m\u001b[0;34m.\u001b[0m\u001b[0m_call_geocoder\u001b[0m\u001b[0;34m(\u001b[0m\u001b[0murl\u001b[0m\u001b[0;34m,\u001b[0m \u001b[0mtimeout\u001b[0m\u001b[0;34m=\u001b[0m\u001b[0mtimeout\u001b[0m\u001b[0;34m)\u001b[0m\u001b[0;34m,\u001b[0m \u001b[0mexactly_one\u001b[0m\u001b[0;34m\u001b[0m\u001b[0m\n\u001b[0m\u001b[1;32m    194\u001b[0m         )\n\u001b[1;32m    195\u001b[0m \u001b[0;34m\u001b[0m\u001b[0m\n",
      "\u001b[0;32m/home/vagrant/anaconda3/lib/python3.6/site-packages/geopy/geocoders/base.py\u001b[0m in \u001b[0;36m_call_geocoder\u001b[0;34m(self, url, timeout, raw, requester, deserializer, **kwargs)\u001b[0m\n\u001b[1;32m    158\u001b[0m                     \u001b[0;32mraise\u001b[0m \u001b[0mERROR_CODE_MAP\u001b[0m\u001b[0;34m[\u001b[0m\u001b[0mcode\u001b[0m\u001b[0;34m]\u001b[0m\u001b[0;34m(\u001b[0m\u001b[0mmessage\u001b[0m\u001b[0;34m)\u001b[0m\u001b[0;34m\u001b[0m\u001b[0m\n\u001b[1;32m    159\u001b[0m                 \u001b[0;32mexcept\u001b[0m \u001b[0mKeyError\u001b[0m\u001b[0;34m:\u001b[0m\u001b[0;34m\u001b[0m\u001b[0m\n\u001b[0;32m--> 160\u001b[0;31m                     \u001b[0;32mraise\u001b[0m \u001b[0mGeocoderServiceError\u001b[0m\u001b[0;34m(\u001b[0m\u001b[0mmessage\u001b[0m\u001b[0;34m)\u001b[0m\u001b[0;34m\u001b[0m\u001b[0m\n\u001b[0m\u001b[1;32m    161\u001b[0m             \u001b[0;32melif\u001b[0m \u001b[0misinstance\u001b[0m\u001b[0;34m(\u001b[0m\u001b[0merror\u001b[0m\u001b[0;34m,\u001b[0m \u001b[0mURLError\u001b[0m\u001b[0;34m)\u001b[0m\u001b[0;34m:\u001b[0m\u001b[0;34m\u001b[0m\u001b[0m\n\u001b[1;32m    162\u001b[0m                 \u001b[0;32mif\u001b[0m \u001b[0;34m\"timed out\"\u001b[0m \u001b[0;32min\u001b[0m \u001b[0mmessage\u001b[0m\u001b[0;34m:\u001b[0m\u001b[0;34m\u001b[0m\u001b[0m\n",
      "\u001b[0;31mGeocoderServiceError\u001b[0m: HTTP Error 500: Internal Server Error"
     ]
    }
   ],
   "source": [
    "#Procide http-500 server error\n",
    "df['long'] = geolocator.geocode(df['Address'], timeout=10).longitude\n",
    "df['lat'] = geolocator.geocode(df['Address'], timeout=10).latitude\n"
   ]
  },
  {
   "cell_type": "code",
   "execution_count": null,
   "metadata": {
    "collapsed": true
   },
   "outputs": [],
   "source": [
    "#plot of locations\n",
    "x_values = df['long']\n",
    "y_values = df['lat']\n",
    "\n",
    "plt.scatter(x_values[:], y_values[:], s=1, edgecolor='none')\n",
    "\n",
    "\n",
    "plt.plot()\n",
    "\n",
    "plt.show()\n"
   ]
  },
  {
   "cell_type": "code",
   "execution_count": 49,
   "metadata": {},
   "outputs": [
    {
     "data": {
      "text/html": [
       "<div>\n",
       "<style>\n",
       "    .dataframe thead tr:only-child th {\n",
       "        text-align: right;\n",
       "    }\n",
       "\n",
       "    .dataframe thead th {\n",
       "        text-align: left;\n",
       "    }\n",
       "\n",
       "    .dataframe tbody tr th {\n",
       "        vertical-align: top;\n",
       "    }\n",
       "</style>\n",
       "<table border=\"1\" class=\"dataframe\">\n",
       "  <thead>\n",
       "    <tr style=\"text-align: right;\">\n",
       "      <th></th>\n",
       "      <th>What</th>\n",
       "      <th>Where</th>\n",
       "      <th>When</th>\n",
       "      <th>How_Much</th>\n",
       "      <th>Address</th>\n",
       "      <th>price</th>\n",
       "    </tr>\n",
       "  </thead>\n",
       "  <tbody>\n",
       "    <tr>\n",
       "      <th>0</th>\n",
       "      <td>Koncert med Rytmisk Center.</td>\n",
       "      <td>Eliaskirken, Vesterbros Torv, Vesterbrogade 49...</td>\n",
       "      <td>Mon 20 November 2017, 6 pm  - 10 pm.</td>\n",
       "      <td>NaN</td>\n",
       "      <td>Vesterbros Torv</td>\n",
       "      <td>NaN</td>\n",
       "    </tr>\n",
       "    <tr>\n",
       "      <th>1</th>\n",
       "      <td>Five Finger Death Punch &amp; In Flames.</td>\n",
       "      <td>Royal Arena, Hannemanns Allé 18-20, Copenhagen S</td>\n",
       "      <td>Mon 20 November 2017, 7 pm.</td>\n",
       "      <td>(Entrance fee: 408,00 dkk - 508,00 dkk)</td>\n",
       "      <td>Hannemanns Allé 18-20</td>\n",
       "      <td>408</td>\n",
       "    </tr>\n",
       "    <tr>\n",
       "      <th>2</th>\n",
       "      <td>Koncert med Lyngby Seniorkor.</td>\n",
       "      <td>Sorgenfri Kirke og Sognegård, Hummeltoften 1, ...</td>\n",
       "      <td>Mon 20 November 2017, 7 pm  - 11 pm.</td>\n",
       "      <td>NaN</td>\n",
       "      <td>Hummeltoften 1</td>\n",
       "      <td>NaN</td>\n",
       "    </tr>\n",
       "    <tr>\n",
       "      <th>3</th>\n",
       "      <td>Mestre på Mandage IX.</td>\n",
       "      <td>Sankt Markus Kirke, Forchhammersvej 12A, Frede...</td>\n",
       "      <td>Mon 20 November 2017, 7.30 pm.</td>\n",
       "      <td>(Free admission)</td>\n",
       "      <td>Forchhammersvej 12A</td>\n",
       "      <td>NaN</td>\n",
       "    </tr>\n",
       "    <tr>\n",
       "      <th>4</th>\n",
       "      <td>Moderne mandag - Beates klaverbog.</td>\n",
       "      <td>Metronomen, Godthåbsvej 33, Frederiksberg</td>\n",
       "      <td>Mon 20 November 2017, 7.30 pm.</td>\n",
       "      <td>(Entrance fee: 100 / 50 DKK)</td>\n",
       "      <td>Godthåbsvej 33</td>\n",
       "      <td>100</td>\n",
       "    </tr>\n",
       "  </tbody>\n",
       "</table>\n",
       "</div>"
      ],
      "text/plain": [
       "                                   What  \\\n",
       "0           Koncert med Rytmisk Center.   \n",
       "1  Five Finger Death Punch & In Flames.   \n",
       "2         Koncert med Lyngby Seniorkor.   \n",
       "3                 Mestre på Mandage IX.   \n",
       "4    Moderne mandag - Beates klaverbog.   \n",
       "\n",
       "                                               Where  \\\n",
       "0  Eliaskirken, Vesterbros Torv, Vesterbrogade 49...   \n",
       "1   Royal Arena, Hannemanns Allé 18-20, Copenhagen S   \n",
       "2  Sorgenfri Kirke og Sognegård, Hummeltoften 1, ...   \n",
       "3  Sankt Markus Kirke, Forchhammersvej 12A, Frede...   \n",
       "4          Metronomen, Godthåbsvej 33, Frederiksberg   \n",
       "\n",
       "                                   When  \\\n",
       "0  Mon 20 November 2017, 6 pm  - 10 pm.   \n",
       "1           Mon 20 November 2017, 7 pm.   \n",
       "2  Mon 20 November 2017, 7 pm  - 11 pm.   \n",
       "3        Mon 20 November 2017, 7.30 pm.   \n",
       "4        Mon 20 November 2017, 7.30 pm.   \n",
       "\n",
       "                                  How_Much                 Address price  \n",
       "0                                      NaN         Vesterbros Torv   NaN  \n",
       "1  (Entrance fee: 408,00 dkk - 508,00 dkk)   Hannemanns Allé 18-20   408  \n",
       "2                                      NaN          Hummeltoften 1   NaN  \n",
       "3                         (Free admission)     Forchhammersvej 12A   NaN  \n",
       "4             (Entrance fee: 100 / 50 DKK)          Godthåbsvej 33   100  "
      ]
     },
     "execution_count": 49,
     "metadata": {},
     "output_type": "execute_result"
    }
   ],
   "source": [
    "#converting the price to readable format\n",
    "df['price'] = df['How_Much'].str.split(':').str[1]\n",
    "df['price'] = df['price'].str.split(' ').str[1]\n",
    "df['price'] = df['price'].str.split(',').str[0]\n",
    "\n",
    "#should do convertion to AVG price PER venue, but come on! seriously?! Is this a math class for computer science..."
   ]
  },
  {
   "cell_type": "code",
   "execution_count": 10,
   "metadata": {},
   "outputs": [
    {
     "name": "stdout",
     "output_type": "stream",
     "text": [
      "None\n"
     ]
    }
   ],
   "source": [
    "def haversine_distance(origin, destination):\n",
    "\n",
    "    lat_orig, lon_orig = origin\n",
    "    lat_dest, lon_dest = destination\n",
    "    radius = 6371\n",
    "\n",
    "    dlat = math.radians(lat_dest-lat_orig)\n",
    "    dlon = math.radians(lon_dest-lon_orig)\n",
    "    a = (math.sin(dlat / 2) * math.sin(dlat / 2) + math.cos(math.radians(lat_orig))\n",
    "        * math.cos(math.radians(lat_dest)) * math.sin(dlon / 2) * math.sin(dlon / 2))\n",
    "    c = 2 * math.atan2(math.sqrt(a), math.sqrt(1 - a))\n",
    "    d = radius * c\n",
    "\n",
    "    return d\n",
    "\n",
    "\n",
    "def plot_values(x, y):\n",
    "\n",
    "    plt.plot(x,y)\n",
    "    plt.axis([0, 80000, 0, 8000])\n",
    "    plt.show()    \n",
    "    \n",
    "prices = df['price']\n",
    "\n",
    "df['dist_to_center'] = [haversine_distance((55.6837, 12.5716), el) \n",
    "             for el in df[['long', 'lat']].values]\n",
    "\n",
    "#This should have been calculated with the AVG price of each venue instead of the price for each event.\n",
    "plot_values(df3['dist_to_center'], df3['prices'])"
   ]
  },
  {
   "cell_type": "code",
   "execution_count": 35,
   "metadata": {},
   "outputs": [
    {
     "name": "stdout",
     "output_type": "stream",
     "text": [
      "<tr><td colspan=\"3\"><img alt=\"\" height=\"5\" src=\"http://www.kultunaut.dk/images/transdot.gif\" width=\"1\"/></td></tr>\n"
     ]
    }
   ],
   "source": []
  },
  {
   "cell_type": "code",
   "execution_count": 13,
   "metadata": {},
   "outputs": [
    {
     "ename": "NameError",
     "evalue": "name 'subtable' is not defined",
     "output_type": "error",
     "traceback": [
      "\u001b[0;31m---------------------------------------------------------------------------\u001b[0m",
      "\u001b[0;31mNameError\u001b[0m                                 Traceback (most recent call last)",
      "\u001b[0;32m<ipython-input-13-952789bcfdb4>\u001b[0m in \u001b[0;36m<module>\u001b[0;34m()\u001b[0m\n\u001b[0;32m----> 1\u001b[0;31m \u001b[0msubtable\u001b[0m\u001b[0;34m\u001b[0m\u001b[0m\n\u001b[0m",
      "\u001b[0;31mNameError\u001b[0m: name 'subtable' is not defined"
     ]
    }
   ],
   "source": []
  },
  {
   "cell_type": "code",
   "execution_count": null,
   "metadata": {
    "collapsed": true
   },
   "outputs": [],
   "source": []
  }
 ],
 "metadata": {
  "kernelspec": {
   "display_name": "Python 3",
   "language": "python",
   "name": "python3"
  },
  "language_info": {
   "codemirror_mode": {
    "name": "ipython",
    "version": 3
   },
   "file_extension": ".py",
   "mimetype": "text/x-python",
   "name": "python",
   "nbconvert_exporter": "python",
   "pygments_lexer": "ipython3",
   "version": "3.6.1"
  }
 },
 "nbformat": 4,
 "nbformat_minor": 2
}
